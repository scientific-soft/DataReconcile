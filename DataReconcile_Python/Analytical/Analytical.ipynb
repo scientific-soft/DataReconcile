{
  "nbformat": 4,
  "nbformat_minor": 0,
  "metadata": {
    "colab": {
      "provenance": []
    },
    "kernelspec": {
      "name": "python3",
      "display_name": "Python 3"
    },
    "language_info": {
      "name": "python"
    }
  },
  "cells": [
    {
      "cell_type": "code",
      "execution_count": 1,
      "metadata": {
        "colab": {
          "base_uri": "https://localhost:8080/"
        },
        "id": "PuUvBOGVH3PT",
        "outputId": "0b204df3-8e3d-4121-ce55-fbcb31292739"
      },
      "outputs": [
        {
          "output_type": "stream",
          "name": "stdout",
          "text": [
            "[[-6.59864878e-15  5.20278077e-15  3.10897875e-15]\n",
            " [ 7.16968569e-15 -4.44139822e-15 -1.55448938e-15]\n",
            " [ 1.87173211e-15 -1.87173211e-15 -1.01517673e-15]]\n",
            "Уточненные значения: [1.35856858+0.j 0.76095428+0.j 0.88047714+0.j]\n",
            "Погрешности решений: [1.49104083e-15 1.31655733e-15 4.75864094e-16]\n"
          ]
        },
        {
          "output_type": "stream",
          "name": "stderr",
          "text": [
            "<ipython-input-1-1bfecd779f71>:87: DeprecationWarning: Conversion of an array with ndim > 0 to a scalar is deprecated, and will error in future. Ensure you extract a single element from your array before performing this operation. (Deprecated NumPy 1.25.)\n",
            "  dy[i] = np.abs(dy_dx[i, 0]) * dx[0] + np.abs(dy_dx[i, 1]) * dx[1]\n",
            "<ipython-input-1-1bfecd779f71>:89: DeprecationWarning: Conversion of an array with ndim > 0 to a scalar is deprecated, and will error in future. Ensure you extract a single element from your array before performing this operation. (Deprecated NumPy 1.25.)\n",
            "  dy[i] += np.abs(dy_dx[i, j]) * dx[j]\n"
          ]
        }
      ],
      "source": [
        "import numpy as np\n",
        "from numpy.linalg import inv\n",
        "\n",
        "# Аналитическая модель решения задачи Data Reconciliation\n",
        "\n",
        "def AnalyticalModel(x, A_y, b_y, c_y, r2_y):\n",
        "    # Гауссова модель распределения погрешностей.\n",
        "\n",
        "    # x - вектор уточняемых результатов измерений,\n",
        "    # A_y - система линейных ограничений на уравнения связи для результатов уточнения, by - вектор правых частей этих уравнений: A_y*y=b_y;\n",
        "    #     т.к. y=x+dx, то A_y*(x+dx)=b_y. Следовательно, A_y*dx=b_y-A_y*x. Значит, в модели Ефремова-Козлова А=A_y, b=b_y-A_y*x.\n",
        "    # с_y и r2_y - совокупное ограничение неравенством (y-c_y)'*(y-c_y)<r2_y. Т.к. y=x+dx, то (x+dx-c_y)'*(x+dx-c_y)<r2_y.\n",
        "    # Следовательно, (dx-(c_y-x))'*(dx-(c_y-x))<r2_y. Значит, в модели Ефремова-Козлова c=c_y-x, r2=r2_y.\n",
        "    # y - результат уточнения\n",
        "\n",
        "    x = x.reshape(-1, 1)  # принудительное приведение к вектор-столбцу\n",
        "    b_y = b_y.reshape(-1, 1)\n",
        "    c_y = c_y.reshape(-1, 1)\n",
        "\n",
        "    A = A_y\n",
        "    b = A_y @ x - b_y\n",
        "    c = x - c_y\n",
        "    r2 = r2_y\n",
        "\n",
        "    # Проверки:\n",
        "    n = len(x)\n",
        "    if len(c) != n:\n",
        "        raise ValueError('Размерность векторов х и с должны совпадать.')\n",
        "    if A.shape[1] != n:\n",
        "        raise ValueError('Число столбцов в матрице А должно совпадать с числом элементов в х.')\n",
        "    if A.shape[0] != len(b):\n",
        "        raise ValueError('Число строк в матрице А должно совпадать с числом элементов в b.')\n",
        "\n",
        "    try:\n",
        "        P = A.T @ inv(A @ A.T)\n",
        "    except np.linalg.LinAlgError:\n",
        "        raise ValueError('Матрица A*A^T вырождена, невозможно вычислить обратную матрицу')\n",
        "\n",
        "    D = np.eye(n) - P @ A\n",
        "\n",
        "    a = (b.T @ P.T @ P @ b\n",
        "         - b.T @ P.T @ c\n",
        "         - c.T @ P @ b\n",
        "         + c.T @ c\n",
        "         - c.T @ D @ c\n",
        "         - r2).item()\n",
        "    h = 2 * a\n",
        "    d = (a + c.T @ D @ c).item()\n",
        "\n",
        "    # Решение квадратного уравнения\n",
        "    roots = np.roots([a, h, d])\n",
        "\n",
        "    dx = np.full((n, 2), complex(np.nan))\n",
        "    for i in range(2):\n",
        "        lbd = roots[i]\n",
        "        if np.isclose(lbd, 0) or np.isclose(lbd, -1):\n",
        "            dx[:, i:i+1] = P @ b\n",
        "        else:\n",
        "            dx[:, i:i+1] = P @ b + lbd * (D @ c) / (1 + lbd)\n",
        "\n",
        "    # Выбор решения с минимальной нормой\n",
        "    idx = np.argmin(np.sum(dx**2, axis=0))\n",
        "    y = x - dx[:, idx:idx+1]\n",
        "\n",
        "    return y\n",
        "\n",
        "def GetUncertainty(x, dx, A_y, b_y, c_y, r2_y):\n",
        "    # Все обозначения - те же, что и для AnalyticalModel,\n",
        "    # dx - массив-вектор cell неопределенностей, формализованных по одному из типов.\n",
        "    n = len(dx)\n",
        "    # Оценка частных производных\n",
        "    alpha = 1e-100\n",
        "    dy_dx = np.zeros((n, n))\n",
        "\n",
        "    for i in range(n):\n",
        "        d = np.zeros((n, 1), dtype=complex)\n",
        "        d[i] = 1j * alpha\n",
        "        perturbed = AnalyticalModel(x + d, A_y, b_y, c_y, r2_y)\n",
        "        dy_dx[:, i] = np.imag(perturbed).flatten() / alpha\n",
        "\n",
        "\n",
        "    print(dy_dx)\n",
        "\n",
        "    # Цикл по операциям сложения и умножения по типу неопределенности\n",
        "    dy = np.zeros(n)\n",
        "    for i in range(n):\n",
        "        dy[i] = np.abs(dy_dx[i, 0]) * dx[0] + np.abs(dy_dx[i, 1]) * dx[1]\n",
        "        for j in range(2, n):\n",
        "            dy[i] += np.abs(dy_dx[i, j]) * dx[j]\n",
        "\n",
        "    return dy\n",
        "\n",
        "######################################################################################\n",
        "# Пример использования:\n",
        "# x = [x1;x2]; результат измерения x = [1.0; 0.9; 0.9];\n",
        "# линейная связь вида 2*x1+3*x2=5; 1*x1+1*x2+1*x3=3\n",
        "# групповое ограничение: недопустимо R2 при отклонении от столбца [1.0;1.0;1.0], большее, чем 0.2.\n",
        "\n",
        "x = np.array([[1.0], [0.9], [0.9]])\n",
        "A = np.array([[2, 3, 0],\n",
        "              [1, 1, 1]])\n",
        "b = np.array([[5], [3]])\n",
        "c = np.array([[1.0], [1.0], [1.0]])\n",
        "r2 = 0.2\n",
        "\n",
        "# Уточненный результат Data Reconciliation\n",
        "y = AnalyticalModel(x, A, b, c, r2)\n",
        "\n",
        "dx = np.array([[0.1], [0.1], [0.1]])  # пределы абсолютной погрешности (FuzzyInterval)\n",
        "dy = GetUncertainty(x, dx, A, b, c, r2)\n",
        "\n",
        "print(\"Уточненные значения:\", y.flatten())\n",
        "print(\"Погрешности решений:\", dy.flatten())"
      ]
    },
    {
      "cell_type": "code",
      "source": [],
      "metadata": {
        "id": "ySFvLTxLRUIz"
      },
      "execution_count": null,
      "outputs": []
    }
  ]
}